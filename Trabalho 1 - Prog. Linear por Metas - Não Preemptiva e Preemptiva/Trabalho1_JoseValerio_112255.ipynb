{
 "cells": [
  {
   "cell_type": "markdown",
   "id": "bed3d8e2",
   "metadata": {},
   "source": [
    "<div style=\"text-align: center;\">\n",
    "\n",
    "<h2> <b>Curso:</b> Licenciatura em Ciência de Dados - 2º ano, 2º semestre</h2>\n",
    "\n",
    "<h2> <b>Disciplina:</b> Otimização Heurística</h2>\n",
    "\n",
    "<b><h3>MÉTODOS DE OTIMIZAÇÃO MULTIOBJECTIVO: <br>PROGRAMAÇÃO LINEAR POR METAS - NÃO PREEMPTIVA E PREEMPTIVA</h3></b>\n",
    "\n",
    "<br>\n",
    "\n",
    "<b>Docente</b>: Mafalda de Ponte\n",
    "\n",
    "<b>Aluno</b>: José Ricardo de Almeida Valério - <b>Nº</b> 112255\n",
    "\n",
    "<br>\n",
    "\n",
    "<b>Repositório Github com este notebook e o relatório</b>: https://github.com/rvzzz/iscte-otimizacao-heuristica-projetos\n",
    "\n",
    "</div>"
   ]
  },
  {
   "cell_type": "markdown",
   "id": "a4696af1",
   "metadata": {},
   "source": [
    "---"
   ]
  },
  {
   "cell_type": "markdown",
   "id": "f985a0ce",
   "metadata": {},
   "source": [
    "#### Importação das bibliotecas Python necessárias para o trabalho:"
   ]
  },
  {
   "cell_type": "code",
   "execution_count": 43,
   "id": "57818c6e",
   "metadata": {},
   "outputs": [],
   "source": [
    "from pulp import LpMinimize, LpProblem, LpStatus, LpVariable, GLPK\n",
    "import numpy as np"
   ]
  },
  {
   "cell_type": "markdown",
   "id": "433ee3e7",
   "metadata": {},
   "source": [
    "### <span style=\"color:magenta;\">Questão a) - Averiguar Viabilidade do Problema (considerando todas as restrições como hard)</span>"
   ]
  },
  {
   "cell_type": "code",
   "execution_count": 44,
   "id": "579425c3",
   "metadata": {},
   "outputs": [
    {
     "data": {
      "text/plain": [
       "Questao_a):\n",
       "MINIMIZE\n",
       "112255\n",
       "SUBJECT TO\n",
       "HRE: 3 x1 + x2 + 2 x3 >= 20\n",
       "\n",
       "PRB: 5 x1 + 3 x2 + 4 x3 >= 30\n",
       "\n",
       "MRE: 2.5 x1 + 2 x2 + 3 x3 >= 18\n",
       "\n",
       "Custo_Total: 100000 x1 + 60000 x2 + 75000 x3 <= 565000\n",
       "\n",
       "Tempo_Min_Total: x1 + x2 + x3 >= 5\n",
       "\n",
       "VARIABLES\n",
       "x1 Continuous\n",
       "x2 Continuous\n",
       "x3 Continuous"
      ]
     },
     "execution_count": 44,
     "metadata": {},
     "output_type": "execute_result"
    }
   ],
   "source": [
    "# criar o modelo de programação linear\n",
    "model = LpProblem(\"Questao_a)\", sense=LpMinimize)\n",
    "\n",
    "# variáveis de decisão (não-negativas)\n",
    "# x1 : nº de minutos de anúncios do Tipo I - Futebol\n",
    "# x2 : nº de minutos de anúncios do Tipo II - Telenovelas\n",
    "# x3 : nº de minutos de anúncios do Tipo III - Horário Nobre\n",
    "x = {i: LpVariable(name=f\"x{i}\", lowBound=0) for i in range(1, 4)}\n",
    "\n",
    "# restrições de audiências mínimas\n",
    "model += (3 * x[1] + 1 * x[2] + 2 * x[3] >= 20, \"HRE\")   # HRE - Homens com Rendimentos Elevados\n",
    "model += (5 * x[1] + 3 * x[2] + 4 * x[3] >= 30, \"PRB\")   # PRB - Pessoas com Rendimentos Baixos\n",
    "model += (2.5 * x[1] + 2 * x[2] + 3 * x[3] >= 18, \"MRE\") # MRE - Mulheres com Rendimentos Elevados\n",
    "\n",
    "# restrição de custo\n",
    "model += (100_000 * x[1] + 60_000 * x[2] + 75_000 * x[3] <= 565_000, \"Custo_Total\") # Custo total\n",
    "\n",
    "# 6. Restrição de tempo total\n",
    "model += (x[1] + x[2] + x[3] >= 5, \"Tempo_Min_Total\") # Tempo total\n",
    "\n",
    "# 3. Função objetivo fictícia (112255, pois só interessa testar a viabilidade)\n",
    "obj_func = 112255\n",
    "model += obj_func\n",
    "\n",
    "# visualização do modelo matemático de forma a conferir os dados\n",
    "model"
   ]
  },
  {
   "cell_type": "code",
   "execution_count": 45,
   "id": "aabcf2c9",
   "metadata": {},
   "outputs": [
    {
     "name": "stdout",
     "output_type": "stream",
     "text": [
      "status: Infeasible [-1]\n",
      "\n",
      "Não é possível encontrar um plano de publicidade viável. \n",
      "\n",
      "\n"
     ]
    }
   ],
   "source": [
    "status = model.solve()\n",
    "\n",
    "print(f\"status: {LpStatus[status]} [{status}]\\n\")\n",
    "\n",
    "if LpStatus[model.status] == \"Optimal\":\n",
    "    print(\"É possível encontrar um plano de publicidade viável. \\n\\n\")\n",
    "else:\n",
    "    print(\"Não é possível encontrar um plano de publicidade viável. \\n\\n\")"
   ]
  },
  {
   "cell_type": "markdown",
   "id": "381cbe67",
   "metadata": {},
   "source": [
    "### <span style=\"color:magenta;\">Questão b) - Programação por Metas não Preemptiva</span>"
   ]
  },
  {
   "cell_type": "markdown",
   "id": "e926b14a",
   "metadata": {},
   "source": [
    "#### b1) <span style=\"color:darkgoldenrod;\">Soma Ponderada dos Desvios Percentuais</span> "
   ]
  },
  {
   "cell_type": "markdown",
   "id": "f7872855",
   "metadata": {},
   "source": [
    "##### <span style=\"color:skyblue;\">Plano 1:</span> $p_1 = p_2 = p_3 = 1$ "
   ]
  },
  {
   "cell_type": "code",
   "execution_count": 46,
   "id": "104d356d",
   "metadata": {},
   "outputs": [
    {
     "data": {
      "text/plain": [
       "Questão_b1_plano1:\n",
       "MINIMIZE\n",
       "0.05*dm1 + 0.03333333333333333*dm2 + 0.05555555555555555*dm3 + 0.0\n",
       "SUBJECT TO\n",
       "HRE: dm1 + 3 x1 + x2 + 2 x3 >= 20\n",
       "\n",
       "PRB: dm2 + 5 x1 + 3 x2 + 4 x3 >= 30\n",
       "\n",
       "MRE: dm3 + 2.5 x1 + 2 x2 + 3 x3 >= 18\n",
       "\n",
       "Custo_Total: 100000 x1 + 60000 x2 + 75000 x3 <= 565000\n",
       "\n",
       "Tempo_Min_Total: x1 + x2 + x3 >= 5\n",
       "\n",
       "VARIABLES\n",
       "dm1 Continuous\n",
       "dm2 Continuous\n",
       "dm3 Continuous\n",
       "x1 Continuous\n",
       "x2 Continuous\n",
       "x3 Continuous"
      ]
     },
     "execution_count": 46,
     "metadata": {},
     "output_type": "execute_result"
    }
   ],
   "source": [
    "# criar o modelo de programação linear\n",
    "model = LpProblem(name=\"Questão_b1_plano1\", sense=LpMinimize)\n",
    "\n",
    "# variáveis de decisão\n",
    "x = {i: LpVariable(name=f\"x{i}\", lowBound=0) for i in range(1, 4)}\n",
    "\n",
    "# veriáveis de desvio para as metas de audiências (desvios negativos - o que falta para atingir a meta)\n",
    "dm = {i: LpVariable(name=f\"dm{i}\", lowBound=0) for i in range(1, 4)}\n",
    "\n",
    "# restrições de audiências mínimas\n",
    "model += (3 * x[1] + 1 * x[2] + 2 * x[3] + dm[1] >= 20, \"HRE\")   # HRE - Homens com Rendimentos Elevados\n",
    "model += (5 * x[1] + 3 * x[2] + 4 * x[3] + dm[2] >= 30, \"PRB\")   # PRB - Pessoas com Rendimentos Baixos\n",
    "model += (2.5 * x[1] + 2 * x[2] + 3 * x[3] + dm[3] >= 18, \"MRE\") # MRE - Mulheres com Rendimentos Elevados\n",
    "\n",
    "# restrição de custo\n",
    "model += (100_000 * x[1] + 60_000 * x[2] + 75_000 * x[3] <= 565_000, \"Custo_Total\")\n",
    "\n",
    "# restrição de tempo total\n",
    "model += (x[1] + x[2] + x[3] >= 5, \"Tempo_Min_Total\")\n",
    "\n",
    "# valores meta e pesos para as audiências mínimas\n",
    "import numpy as np\n",
    "vam = np.array([20, 30, 18]) # valores meta\n",
    "peso = np.array([1, 1, 1]) # pesos para as audiências mínimas\n",
    "\n",
    "# função objetivo\n",
    "obj_func = (peso[0]/vam[0]) * dm[1] + \\\n",
    "           (peso[1]/vam[1]) * dm[2] + \\\n",
    "           (peso[2]/vam[2]) * dm[3]\n",
    "\n",
    "model += obj_func\n",
    "\n",
    "# visualização do modelo matemático de forma a conferir os dados\n",
    "model"
   ]
  },
  {
   "cell_type": "code",
   "execution_count": 47,
   "id": "a57065b3",
   "metadata": {},
   "outputs": [
    {
     "name": "stdout",
     "output_type": "stream",
     "text": [
      "Valor ótimo:\n",
      "   Z* = 0.22518513333333334\n",
      "\n",
      "Solução Ótima:\n",
      "   x1* = 3.06667\n",
      "   x2* = 0.0\n",
      "   x3* = 3.44444\n",
      "\n",
      "Valores das variáveis de desvio:\n",
      "   dm1* = 3.91111\n",
      "   dm2* = 0.888889\n",
      "   dm3* = 0.0\n",
      "\n",
      "Valores Alcançados nas metas:\n",
      "   20 - 3.91111 = 16.08889\n",
      "   30 - 0.888889 = 29.111111\n",
      "   18 - 0.0 = 18.0\n",
      "\n",
      "Valores das restrições:\n",
      "   HRE: -8.881784197001252e-16\n",
      "   PRB: -9.999999999177334e-07\n",
      "   MRE: -4.999999999810711e-06\n",
      "   Custo_Total: 0.0\n",
      "   Tempo_Min_Total: 1.51111\n"
     ]
    }
   ],
   "source": [
    "status = model.solve(solver=GLPK(msg=True))\n",
    "\n",
    "print(\"Valor ótimo:\")\n",
    "print(f\"   Z* = {model.objective.value()}\")\n",
    "\n",
    "print(\"\\nSolução Ótima:\")\n",
    "for var in x.values():\n",
    "    print(f\"   {var.name}* = {var.value()}\")\n",
    "\n",
    "print(\"\\nValores das variáveis de desvio:\")\n",
    "for var in dm.values():\n",
    "    print(f\"   {var.name}* = {var.value()}\")\n",
    "\n",
    "print(\"\\nValores Alcançados nas metas:\")\n",
    "for meta, desvio in zip(vam, dm.values()):\n",
    "    print(f\"   {meta} - {desvio.value()} = {meta - desvio.value()}\")\n",
    "\n",
    "print(\"\\nValores das restrições:\")\n",
    "for name, constraint in model.constraints.items():\n",
    "    print(f\"   {name}: {constraint.value()}\")"
   ]
  },
  {
   "cell_type": "markdown",
   "id": "c2002157",
   "metadata": {},
   "source": [
    "##### <span style=\"color:skyblue;\">Plano 2:</span> $p_1 = 6$ e $p_2 = p_3 = 1$"
   ]
  },
  {
   "cell_type": "code",
   "execution_count": 48,
   "id": "d890927f",
   "metadata": {},
   "outputs": [
    {
     "data": {
      "text/plain": [
       "Questão_b1_plano2:\n",
       "MINIMIZE\n",
       "0.3*dm1 + 0.03333333333333333*dm2 + 0.05555555555555555*dm3 + 0.0\n",
       "SUBJECT TO\n",
       "HRE: dm1 + 3 x1 + x2 + 2 x3 >= 20\n",
       "\n",
       "PRB: dm2 + 5 x1 + 3 x2 + 4 x3 >= 30\n",
       "\n",
       "MRE: dm3 + 2.5 x1 + 2 x2 + 3 x3 >= 18\n",
       "\n",
       "Custo_Total: 100000 x1 + 60000 x2 + 75000 x3 <= 565000\n",
       "\n",
       "Tempo_Min_Total: x1 + x2 + x3 >= 5\n",
       "\n",
       "VARIABLES\n",
       "dm1 Continuous\n",
       "dm2 Continuous\n",
       "dm3 Continuous\n",
       "x1 Continuous\n",
       "x2 Continuous\n",
       "x3 Continuous"
      ]
     },
     "execution_count": 48,
     "metadata": {},
     "output_type": "execute_result"
    }
   ],
   "source": [
    "# criar o modelo de programação linear\n",
    "model = LpProblem(name=\"Questão_b1_plano2\", sense=LpMinimize)\n",
    "\n",
    "# variáveis de decisão\n",
    "x = {i: LpVariable(name=f\"x{i}\", lowBound=0) for i in range(1, 4)}\n",
    "\n",
    "# veriáveis de desvio para as metas de audiências (desvios negativos - o que falta para atingir a meta)\n",
    "dm = {i: LpVariable(name=f\"dm{i}\", lowBound=0) for i in range(1, 4)}\n",
    "\n",
    "# restrições de audiências mínimas\n",
    "model += (3 * x[1] + 1 * x[2] + 2 * x[3] + dm[1] >= 20, \"HRE\")   # HRE - Homens com Rendimentos Elevados\n",
    "model += (5 * x[1] + 3 * x[2] + 4 * x[3] + dm[2] >= 30, \"PRB\")   # PRB - Pessoas com Rendimentos Baixos\n",
    "model += (2.5 * x[1] + 2 * x[2] + 3 * x[3] + dm[3] >= 18, \"MRE\") # MRE - Mulheres com Rendimentos Elevados\n",
    "\n",
    "# restrição de custo\n",
    "model += (100_000 * x[1] + 60_000 * x[2] + 75_000 * x[3] <= 565_000, \"Custo_Total\")\n",
    "\n",
    "# restrição de tempo total\n",
    "model += (x[1] + x[2] + x[3] >= 5, \"Tempo_Min_Total\")\n",
    "\n",
    "# valores meta e pesos para as audiências mínimas\n",
    "vam = np.array([20, 30, 18]) # valores meta\n",
    "peso = np.array([6, 1, 1]) # pesos para as audiências mínimas\n",
    "\n",
    "# função objetivo\n",
    "obj_func = (peso[0]/vam[0]) * dm[1] + \\\n",
    "           (peso[1]/vam[1]) * dm[2] + \\\n",
    "           (peso[2]/vam[2]) * dm[3]\n",
    "\n",
    "model += obj_func\n",
    "\n",
    "# visualização do modelo matemático de forma a conferir os dados\n",
    "model"
   ]
  },
  {
   "cell_type": "code",
   "execution_count": 49,
   "id": "11958ec3",
   "metadata": {},
   "outputs": [
    {
     "name": "stdout",
     "output_type": "stream",
     "text": [
      "Valor ótimo:\n",
      "   Z* = 1.188611111111111\n",
      "\n",
      "Solução Ótima:\n",
      "   x1* = 5.65\n",
      "   x2* = 0.0\n",
      "   x3* = 0.0\n",
      "\n",
      "Valores das variáveis de desvio:\n",
      "   dm1* = 3.05\n",
      "   dm2* = 1.75\n",
      "   dm3* = 3.875\n",
      "\n",
      "Valores Alcançados nas metas:\n",
      "   20 - 3.05 = 16.95\n",
      "   30 - 1.75 = 28.25\n",
      "   18 - 3.875 = 14.125\n",
      "\n",
      "Valores das restrições:\n",
      "   HRE: 2.6645352591003757e-15\n",
      "   PRB: 0.0\n",
      "   MRE: 0.0\n",
      "   Custo_Total: 0.0\n",
      "   Tempo_Min_Total: 0.6500000000000004\n"
     ]
    }
   ],
   "source": [
    "status = model.solve(solver=GLPK(msg=True))\n",
    "\n",
    "print(\"Valor ótimo:\")\n",
    "print(f\"   Z* = {model.objective.value()}\")\n",
    "\n",
    "print(\"\\nSolução Ótima:\")\n",
    "for var in x.values():\n",
    "    print(f\"   {var.name}* = {var.value()}\")\n",
    "\n",
    "print(\"\\nValores das variáveis de desvio:\")\n",
    "for var in dm.values():\n",
    "    print(f\"   {var.name}* = {var.value()}\")\n",
    "\n",
    "print(\"\\nValores Alcançados nas metas:\")\n",
    "for meta, desvio in zip(vam, dm.values()):\n",
    "    print(f\"   {meta} - {desvio.value()} = {meta - desvio.value()}\")\n",
    "\n",
    "print(\"\\nValores das restrições:\")\n",
    "for name, constraint in model.constraints.items():\n",
    "    print(f\"   {name}: {constraint.value()}\")"
   ]
  },
  {
   "cell_type": "markdown",
   "id": "65b863d0",
   "metadata": {},
   "source": [
    "#### b2) <span style=\"color:darkgoldenrod;\">Minimização do desvio máximo de cada meta - Objetivo MiniMax</span> "
   ]
  },
  {
   "cell_type": "markdown",
   "id": "78bf324c",
   "metadata": {},
   "source": [
    "##### <span style=\"color:skyblue;\">Plano 3:</span>   $p_1 = p_2 = p_3 = 1$"
   ]
  },
  {
   "cell_type": "code",
   "execution_count": 50,
   "id": "1ad1290d",
   "metadata": {},
   "outputs": [
    {
     "data": {
      "text/plain": [
       "Questão_b2_plano3:\n",
       "MINIMIZE\n",
       "1*Q + 0\n",
       "SUBJECT TO\n",
       "HRE: dm1 + 3 x1 + x2 + 2 x3 >= 20\n",
       "\n",
       "PRB: dm2 + 5 x1 + 3 x2 + 4 x3 >= 30\n",
       "\n",
       "MRE: dm3 + 2.5 x1 + 2 x2 + 3 x3 >= 18\n",
       "\n",
       "Custo_Total: 100000 x1 + 60000 x2 + 75000 x3 <= 565000\n",
       "\n",
       "Tempo_Min_Total: x1 + x2 + x3 >= 5\n",
       "\n",
       "desvio_inf_meta1: - Q + 0.05 dm1 <= 0\n",
       "\n",
       "desvio_inf_meta2: - Q + 0.0333333333333 dm2 <= 0\n",
       "\n",
       "desvio_inf_meta3: - Q + 0.0555555555556 dm3 <= 0\n",
       "\n",
       "VARIABLES\n",
       "Q Continuous\n",
       "dm1 Continuous\n",
       "dm2 Continuous\n",
       "dm3 Continuous\n",
       "x1 Continuous\n",
       "x2 Continuous\n",
       "x3 Continuous"
      ]
     },
     "execution_count": 50,
     "metadata": {},
     "output_type": "execute_result"
    }
   ],
   "source": [
    "# criar o modelo de programação linear\n",
    "model = LpProblem(name=\"Questão_b2_plano3\", sense=LpMinimize)\n",
    "\n",
    "# variáveis de decisão\n",
    "x = {i: LpVariable(name=f\"x{i}\", lowBound=0) for i in range(1, 4)}\n",
    "\n",
    "# veriáveis de desvio para as metas de audiências (desvios negativos - falta face à a meta)\n",
    "dm = {i: LpVariable(name=f\"dm{i}\", lowBound=0) for i in range(1, 4)}\n",
    "\n",
    "# variável MinMax - Q: é a variável que vai ser minimizada, ou seja, o valor máximo dos desvios de cada meta.\n",
    "Q = LpVariable(name=\"Q\", lowBound=0)\n",
    "\n",
    "# restrições de audiências mínimas\n",
    "model += (3 * x[1] + 1 * x[2] + 2 * x[3] + dm[1] >= 20, \"HRE\")   # HRE - Homens com Rendimentos Elevados\n",
    "model += (5 * x[1] + 3 * x[2] + 4 * x[3] + dm[2] >= 30, \"PRB\")   # PRB - Pessoas com Rendimentos Baixos\n",
    "model += (2.5 * x[1] + 2 * x[2] + 3 * x[3] + dm[3] >= 18, \"MRE\") # MRE - Mulheres com Rendimentos Elevados\n",
    "\n",
    "# restrição de custo\n",
    "model += (100_000 * x[1] + 60_000 * x[2] + 75_000 * x[3] <= 565_000, \"Custo_Total\")\n",
    "\n",
    "# restrição de tempo total\n",
    "model += (x[1] + x[2] + x[3] >= 5, \"Tempo_Min_Total\")\n",
    "\n",
    "# valores alvo das metas e pesos para as audiências mínimas\n",
    "vam = np.array([20, 30, 18]) # valores alvo das meta ou níveis de aspiração\n",
    "peso = np.array([1, 1, 1]) # pesos para as metas\n",
    "\n",
    "# Adicionar as restrições de desvio: estas restrições de desvio são as que garantem que o valor máximo dos desvios de cada meta seja menor ou igual a Q.\n",
    "model += (((peso[0]/vam[0]) * dm[1]) - Q <= 0, \"desvio_inf_meta1\")\n",
    "model += (((peso[1]/vam[1]) * dm[2]) - Q <= 0, \"desvio_inf_meta2\")\n",
    "model += (((peso[2]/vam[2]) * dm[3]) - Q <= 0, \"desvio_inf_meta3\")\n",
    "\n",
    "# função objetivo\n",
    "obj_func = Q\n",
    "\n",
    "model += obj_func\n",
    "\n",
    "# visualização do modelo matemático de forma a conferir os dados\n",
    "model"
   ]
  },
  {
   "cell_type": "code",
   "execution_count": 51,
   "id": "7bd70313",
   "metadata": {},
   "outputs": [
    {
     "name": "stdout",
     "output_type": "stream",
     "text": [
      "Valor ótimo:\n",
      "   Z* = 0.162963\n",
      "\n",
      "Solução Ótima:\n",
      "   x1* = 5.02222\n",
      "   x2* = 0.0\n",
      "   x3* = 0.837037\n",
      "\n",
      "Valores das variáveis de desvio:\n",
      "   dm1* = 3.25926\n",
      "   dm2* = 1.54074\n",
      "   dm3* = 2.93333\n",
      "\n",
      "Valores Alcançados nas metas:\n",
      "   20 - 3.25926 = 16.74074\n",
      "   30 - 1.54074 = 28.45926\n",
      "   18 - 2.93333 = 15.06667\n",
      "\n",
      "Valores das restrições:\n",
      "   HRE: -6.000000001282757e-06\n",
      "   PRB: -1.199999999945689e-05\n",
      "   MRE: -8.999999999481645e-06\n",
      "   Custo_Total: -0.2249999999985448\n",
      "   Tempo_Min_Total: 0.8592569999999999\n",
      "   desvio_inf_meta1: 0.0\n",
      "   desvio_inf_meta2: -0.111605\n",
      "   desvio_inf_meta3: -2.222222222070247e-07\n"
     ]
    }
   ],
   "source": [
    "status = model.solve(solver=GLPK(msg=True))\n",
    "\n",
    "print(\"Valor ótimo:\")\n",
    "print(f\"   Z* = {model.objective.value()}\")\n",
    "\n",
    "print(\"\\nSolução Ótima:\")\n",
    "for var in x.values():\n",
    "    print(f\"   {var.name}* = {var.value()}\")\n",
    "\n",
    "print(\"\\nValores das variáveis de desvio:\")\n",
    "for var in dm.values():\n",
    "    print(f\"   {var.name}* = {var.value()}\")\n",
    "\n",
    "print(\"\\nValores Alcançados nas metas:\")\n",
    "for meta, desvio in zip(vam, dm.values()):\n",
    "    print(f\"   {meta} - {desvio.value()} = {meta - desvio.value()}\")\n",
    "\n",
    "print(\"\\nValores das restrições:\")\n",
    "for name, constraint in model.constraints.items():\n",
    "    print(f\"   {name}: {constraint.value()}\")"
   ]
  },
  {
   "cell_type": "markdown",
   "id": "65ba5fe1",
   "metadata": {},
   "source": [
    "##### <span style=\"color:skyblue;\">Plano 4:</span> $p_1 = p_2 = 1$ e $p_3 = 4$"
   ]
  },
  {
   "cell_type": "code",
   "execution_count": 52,
   "id": "fbb25eeb",
   "metadata": {},
   "outputs": [
    {
     "data": {
      "text/plain": [
       "Questão_b2_plano4:\n",
       "MINIMIZE\n",
       "1*Q + 0\n",
       "SUBJECT TO\n",
       "HRE: dm1 + 3 x1 + x2 + 2 x3 >= 20\n",
       "\n",
       "PRB: dm2 + 5 x1 + 3 x2 + 4 x3 >= 30\n",
       "\n",
       "MRE: dm3 + 2.5 x1 + 2 x2 + 3 x3 >= 18\n",
       "\n",
       "Custo_Total: 100000 x1 + 60000 x2 + 75000 x3 <= 565000\n",
       "\n",
       "Tempo_Min_Total: x1 + x2 + x3 >= 5\n",
       "\n",
       "desvio_inf_meta1: - Q + 0.05 dm1 <= 0\n",
       "\n",
       "desvio_inf_meta2: - Q + 0.0333333333333 dm2 <= 0\n",
       "\n",
       "desvio_inf_meta3: - Q + 0.222222222222 dm3 <= 0\n",
       "\n",
       "VARIABLES\n",
       "Q Continuous\n",
       "dm1 Continuous\n",
       "dm2 Continuous\n",
       "dm3 Continuous\n",
       "x1 Continuous\n",
       "x2 Continuous\n",
       "x3 Continuous"
      ]
     },
     "execution_count": 52,
     "metadata": {},
     "output_type": "execute_result"
    }
   ],
   "source": [
    "# criar o modelo de programação linear\n",
    "model = LpProblem(name=\"Questão_b2_plano4\", sense=LpMinimize)\n",
    "\n",
    "# variáveis de decisão\n",
    "x = {i: LpVariable(name=f\"x{i}\", lowBound=0) for i in range(1, 4)}\n",
    "\n",
    "# veriáveis de desvio para as metas de audiências (desvios negativos - falta face à a meta)\n",
    "dm = {i: LpVariable(name=f\"dm{i}\", lowBound=0) for i in range(1, 4)}\n",
    "\n",
    "# variável MinMax - Q: é a variável que vai ser minimizada, ou seja, o valor máximo dos desvios de cada meta.\n",
    "Q = LpVariable(name=\"Q\", lowBound=0)\n",
    "\n",
    "# restrições de audiências mínimas\n",
    "model += (3 * x[1] + 1 * x[2] + 2 * x[3] + dm[1] >= 20, \"HRE\")   # HRE - Homens com Rendimentos Elevados\n",
    "model += (5 * x[1] + 3 * x[2] + 4 * x[3] + dm[2] >= 30, \"PRB\")   # PRB - Pessoas com Rendimentos Baixos\n",
    "model += (2.5 * x[1] + 2 * x[2] + 3 * x[3] + dm[3] >= 18, \"MRE\") # MRE - Mulheres com Rendimentos Elevados\n",
    "\n",
    "# restrição de custo\n",
    "model += (100_000 * x[1] + 60_000 * x[2] + 75_000 * x[3] <= 565_000, \"Custo_Total\")\n",
    "\n",
    "# restrição de tempo total\n",
    "model += (x[1] + x[2] + x[3] >= 5, \"Tempo_Min_Total\")\n",
    "\n",
    "# valores alvo das metas e pesos para as audiências mínimas\n",
    "vam = np.array([20, 30, 18]) # valores alvo das meta ou níveis de aspiração\n",
    "peso = np.array([1, 1, 4]) # pesos para as metas\n",
    "\n",
    "# Adicionar as restrições de desvio: estas restrições de desvio são as que garantem que o valor máximo dos desvios de cada meta seja menor ou igual a Q.\n",
    "model += (((peso[0]/vam[0]) * dm[1]) - Q <= 0, \"desvio_inf_meta1\")\n",
    "model += (((peso[1]/vam[1]) * dm[2]) - Q <= 0, \"desvio_inf_meta2\")\n",
    "model += (((peso[2]/vam[2]) * dm[3]) - Q <= 0, \"desvio_inf_meta3\")\n",
    "\n",
    "# função objetivo\n",
    "obj_func = Q\n",
    "\n",
    "model += obj_func\n",
    "\n",
    "# visualização do modelo matemático de forma a conferir os dados\n",
    "model"
   ]
  },
  {
   "cell_type": "code",
   "execution_count": 53,
   "id": "30ba808d",
   "metadata": {},
   "outputs": [
    {
     "name": "stdout",
     "output_type": "stream",
     "text": [
      "Valor ótimo:\n",
      "   Z* = 0.186243\n",
      "\n",
      "Solução Ótima:\n",
      "   x1* = 3.6254\n",
      "   x2* = 0.0\n",
      "   x3* = 2.69947\n",
      "\n",
      "Valores das variáveis de desvio:\n",
      "   dm1* = 3.72487\n",
      "   dm2* = 1.07513\n",
      "   dm3* = 0.838095\n",
      "\n",
      "Valores Alcançados nas metas:\n",
      "   20 - 3.72487 = 16.27513\n",
      "   30 - 1.07513 = 28.92487\n",
      "   18 - 0.838095 = 17.161905\n",
      "\n",
      "Valores das restrições:\n",
      "   HRE: 1.0000000000509601e-05\n",
      "   PRB: 9.99999999806711e-06\n",
      "   MRE: 4.999999998922533e-06\n",
      "   Custo_Total: 0.25\n",
      "   Tempo_Min_Total: 1.3248699999999998\n",
      "   desvio_inf_meta1: 5.000000000143778e-07\n",
      "   desvio_inf_meta2: -0.15040533333333334\n",
      "   desvio_inf_meta3: 3.333333333521704e-07\n"
     ]
    }
   ],
   "source": [
    "status = model.solve(solver=GLPK(msg=True))\n",
    "\n",
    "\n",
    "print(\"Valor ótimo:\")\n",
    "print(f\"   Z* = {model.objective.value()}\")\n",
    "\n",
    "print(\"\\nSolução Ótima:\")\n",
    "for var in x.values():\n",
    "    print(f\"   {var.name}* = {var.value()}\")\n",
    "\n",
    "print(\"\\nValores das variáveis de desvio:\")\n",
    "for var in dm.values():\n",
    "    print(f\"   {var.name}* = {var.value()}\")\n",
    "\n",
    "print(\"\\nValores Alcançados nas metas:\")\n",
    "for meta, desvio in zip(vam, dm.values()):\n",
    "    print(f\"   {meta} - {desvio.value()} = {meta - desvio.value()}\")\n",
    "\n",
    "print(\"\\nValores das restrições:\")\n",
    "for name, constraint in model.constraints.items():\n",
    "    print(f\"   {name}: {constraint.value()}\")"
   ]
  },
  {
   "cell_type": "markdown",
   "id": "4a693b07",
   "metadata": {},
   "source": [
    "### <span style=\"color:magenta;\">Questão c) - Análise de Dominância das soluções encontradas em b)</span>"
   ]
  },
  {
   "cell_type": "code",
   "execution_count": 54,
   "id": "8bdf884d",
   "metadata": {},
   "outputs": [
    {
     "name": "stdout",
     "output_type": "stream",
     "text": [
      "Verificação:\n",
      "\tA verificar se plano 1 domina o plano 2...\n",
      "\tA verificar se plano 1 domina o plano 3...\n",
      "\tA verificar se plano 1 domina o plano 4...\n",
      "\t------------------------------------------\n",
      "\tA verificar se plano 2 domina o plano 1...\n",
      "\tA verificar se plano 2 domina o plano 3...\n",
      "\tA verificar se plano 2 domina o plano 4...\n",
      "\t------------------------------------------\n",
      "\tA verificar se plano 3 domina o plano 1...\n",
      "\tA verificar se plano 3 domina o plano 2...\n",
      "\tA verificar se plano 3 domina o plano 4...\n",
      "\t------------------------------------------\n",
      "\tA verificar se plano 4 domina o plano 1...\n",
      "\tA verificar se plano 4 domina o plano 2...\n",
      "\tA verificar se plano 4 domina o plano 3...\n",
      "\t------------------------------------------\n",
      "\n",
      "\n",
      "Conclusão:\n",
      "\tNão existem planos dominados.\n"
     ]
    }
   ],
   "source": [
    "# dicionário com os planos de publicidade (1, 2, 3 e 4) e os respetivos valores em cada meta:\n",
    "# valores absolutos que compõem a diferença entre os níveis de aspiração e os desvios encontrados\n",
    "dif_entre_niveis_de_aspiracao_e_desvios_encontrados = {\n",
    "    1: [16.09, 29.11, 18],\n",
    "    2: [16.95, 28.25, 14.12],\n",
    "    3: [16.74, 28.46, 15.07],\n",
    "    4: [16.28, 28.92, 17.16]\n",
    "}\n",
    "\n",
    "# lista para armazenar os planos dominados que forem encontrados\n",
    "planos_dominados = []\n",
    "\n",
    "# verificar se algum plano domina outro\n",
    "print(\"Verificação:\")\n",
    "for i in range(1, 5):\n",
    "    for j in range(1, 5):\n",
    "        if i != j:\n",
    "            print(f\"\\tA verificar se plano {i} domina o plano {j}...\")\n",
    "            # verificar se o plano i domina o plano j\n",
    "            if all(dif_entre_niveis_de_aspiracao_e_desvios_encontrados[i][k] <= dif_entre_niveis_de_aspiracao_e_desvios_encontrados[j][k] for k in range(3)):\n",
    "                planos_dominados.append((i, j))\n",
    "                print(f\"\\nPlano {i} domina o plano {j}.\")\n",
    "    print(\"\\t------------------------------------------\")\n",
    "\n",
    "\n",
    "print(\"\\n\\nConclusão:\")\n",
    "\n",
    "# imprimir os planos dominados\n",
    "if not planos_dominados:\n",
    "    print(\"\\tNão existem planos dominados.\")\n",
    "else:\n",
    "    print(\"\\nPlanos dominados encontrados:\")\n",
    "    for plano in planos_dominados:\n",
    "        print(f\"\\tPlano {plano[0]} domina o plano {plano[1]}.\")\n",
    "\n"
   ]
  },
  {
   "cell_type": "markdown",
   "id": "94e3279b",
   "metadata": {},
   "source": [
    "### <span style=\"color:magenta;\">Questão d) - Programação por Metas Preemptiva</span>"
   ]
  },
  {
   "cell_type": "markdown",
   "id": "289665cd",
   "metadata": {},
   "source": [
    "#### Formulação do problema:\n",
    "\n",
    "![Formulação do Problema de Programação Por Metas Preemptiva](https://raw.githubusercontent.com/rvzzz/iscte-otimizacao-heuristica-projetos/main/Trabalho%201/imagens/questao_d_formulacao_do_problema.png)"
   ]
  },
  {
   "cell_type": "markdown",
   "id": "ca1d2d4f",
   "metadata": {},
   "source": [
    "#### Formulação e Resolução do 1º nível:\n",
    "\n",
    "![1º nível do Problema](https://raw.githubusercontent.com/rvzzz/iscte-otimizacao-heuristica-projetos/main/Trabalho%201/imagens/questao_d_1_nivel.png)"
   ]
  },
  {
   "cell_type": "code",
   "execution_count": 55,
   "id": "fa9999d1",
   "metadata": {},
   "outputs": [
    {
     "data": {
      "text/plain": [
       "Questão_b2_plano4:\n",
       "MINIMIZE\n",
       "1*dm2 + 0\n",
       "SUBJECT TO\n",
       "PRB: dm2 + 5 x1 + 3 x2 + 4 x3 >= 30\n",
       "\n",
       "Custo_Total: 100000 x1 + 60000 x2 + 75000 x3 <= 565000\n",
       "\n",
       "Tempo_Min_Total: x1 + x2 + x3 >= 5\n",
       "\n",
       "VARIABLES\n",
       "dm2 Continuous\n",
       "x1 Continuous\n",
       "x2 Continuous\n",
       "x3 Continuous"
      ]
     },
     "execution_count": 55,
     "metadata": {},
     "output_type": "execute_result"
    }
   ],
   "source": [
    "# criar o modelo de programação linear\n",
    "model = LpProblem(name=\"Questão_b2_plano4\", sense=LpMinimize)\n",
    "\n",
    "# variáveis de decisão\n",
    "x = {i: LpVariable(name=f\"x{i}\", lowBound=0) for i in range(1, 4)}\n",
    "\n",
    "# veriáveis de desvio para as metas de audiências (desvios negativos - falta face à a meta)\n",
    "dm = {i: LpVariable(name=f\"dm{i}\", lowBound=0) for i in range(2, 3)}\n",
    "\n",
    "# restrições de audiências mínimas necessárias neste 1º nível:\n",
    "model += (5 * x[1] + 3 * x[2] + 4 * x[3] + dm[2] >= 30, \"PRB\")   # PRB - Pessoas com Rendimentos Baixos\n",
    "\n",
    "# para este 1º nível não iremos considerar as outras duas audiências:\n",
    "# model += (2.5 * x[1] + 2 * x[2] + 3 * x[3] + dm[3] >= 18, \"MRE\") # MRE - Mulheres com Rendimentos Elevados\n",
    "# model += (3 * x[1] + 1 * x[2] + 2 * x[3] + dm[1] >= 20, \"HRE\")   # HRE - Homens com Rendimentos Elevados\n",
    "\n",
    "# restrição de custo\n",
    "model += (100_000 * x[1] + 60_000 * x[2] + 75_000 * x[3] <= 565_000, \"Custo_Total\")\n",
    "\n",
    "# restrição de tempo total\n",
    "model += (x[1] + x[2] + x[3] >= 5, \"Tempo_Min_Total\")\n",
    "\n",
    "# função objetivo\n",
    "obj_func = dm[2]\n",
    "\n",
    "model += obj_func\n",
    "\n",
    "# visualização do modelo matemático de forma a conferir os dados\n",
    "model"
   ]
  },
  {
   "cell_type": "code",
   "execution_count": 56,
   "id": "3ca713de",
   "metadata": {},
   "outputs": [
    {
     "name": "stdout",
     "output_type": "stream",
     "text": [
      "Valor ótimo:\n",
      "   Z* = 0.0\n",
      "\n",
      "Solução Ótima:\n",
      "   x1* = 0.0\n",
      "   x2* = 0.0\n",
      "   x3* = 7.5\n",
      "\n",
      "Valores das variáveis de desvio:\n",
      "   dm2* = 0.0\n",
      "\n",
      "Valores Alcançados nas metas:\n",
      "   20 - 0.0 = 20.0\n",
      "\n",
      "Valores das restrições:\n",
      "   PRB: 0.0\n",
      "   Custo_Total: -2500.0\n",
      "   Tempo_Min_Total: 2.5\n"
     ]
    }
   ],
   "source": [
    "status = model.solve(solver=GLPK(msg=True))\n",
    "\n",
    "\n",
    "print(\"Valor ótimo:\")\n",
    "print(f\"   Z* = {model.objective.value()}\")\n",
    "\n",
    "print(\"\\nSolução Ótima:\")\n",
    "for var in x.values():\n",
    "    print(f\"   {var.name}* = {var.value()}\")\n",
    "\n",
    "print(\"\\nValores das variáveis de desvio:\")\n",
    "for var in dm.values():\n",
    "    print(f\"   {var.name}* = {var.value()}\")\n",
    "\n",
    "print(\"\\nValores Alcançados nas metas:\")\n",
    "for meta, desvio in zip(vam, dm.values()):\n",
    "    print(f\"   {meta} - {desvio.value()} = {meta - desvio.value()}\")\n",
    "\n",
    "print(\"\\nValores das restrições:\")\n",
    "for name, constraint in model.constraints.items():\n",
    "    print(f\"   {name}: {constraint.value()}\")"
   ]
  },
  {
   "cell_type": "markdown",
   "id": "03417b09",
   "metadata": {},
   "source": [
    "#### Formulação e Resolução do 2º nível:\n",
    "\n",
    "![2º nível do Problema](https://raw.githubusercontent.com/rvzzz/iscte-otimizacao-heuristica-projetos/main/Trabalho%201/imagens/questao_d_2_nivel.png)"
   ]
  },
  {
   "cell_type": "code",
   "execution_count": 57,
   "id": "364c63d2",
   "metadata": {},
   "outputs": [
    {
     "data": {
      "text/plain": [
       "Questão_b2_plano4:\n",
       "MINIMIZE\n",
       "1*dm3 + 0\n",
       "SUBJECT TO\n",
       "PRB: dm2 + 5 x1 + 3 x2 + 4 x3 >= 30\n",
       "\n",
       "MRE: dm3 + 2.5 x1 + 2 x2 + 3 x3 >= 18\n",
       "\n",
       "desvio_2: dm2 = 0\n",
       "\n",
       "Custo_Total: 100000 x1 + 60000 x2 + 75000 x3 <= 565000\n",
       "\n",
       "Tempo_Min_Total: x1 + x2 + x3 >= 5\n",
       "\n",
       "VARIABLES\n",
       "dm2 Continuous\n",
       "dm3 Continuous\n",
       "x1 Continuous\n",
       "x2 Continuous\n",
       "x3 Continuous"
      ]
     },
     "execution_count": 57,
     "metadata": {},
     "output_type": "execute_result"
    }
   ],
   "source": [
    "# criar o modelo de programação linear\n",
    "model = LpProblem(name=\"Questão_b2_plano4\", sense=LpMinimize)\n",
    "\n",
    "# variáveis de decisão\n",
    "x = {i: LpVariable(name=f\"x{i}\", lowBound=0) for i in range(1, 4)}\n",
    "\n",
    "# veriáveis de desvio para as metas de audiências (desvios negativos - falta face à a meta)\n",
    "dm = {i: LpVariable(name=f\"dm{i}\", lowBound=0) for i in range(2, 4)}\n",
    "\n",
    "# restrições de audiências mínimas necessárias neste 2º nível:\n",
    "model += (5 * x[1] + 3 * x[2] + 4 * x[3] + dm[2] >= 30, \"PRB\")   # PRB - Pessoas com Rendimentos Baixos\n",
    "model += (2.5 * x[1] + 2 * x[2] + 3 * x[3] + dm[3] >= 18, \"MRE\") # MRE - Mulheres com Rendimentos Elevados\n",
    "\n",
    "# restrição com a informação encontrada no 1º nível:\n",
    "model += (dm[2] == 0, \"desvio_2\")\n",
    "\n",
    "# para este 2º nível não iremos considerar a outra:\n",
    "# model += (3 * x[1] + 1 * x[2] + 2 * x[3] + dm[1] >= 20, \"HRE\")   # HRE - Homens com Rendimentos Elevados\n",
    "\n",
    "# restrição de custo\n",
    "model += (100_000 * x[1] + 60_000 * x[2] + 75_000 * x[3] <= 565_000, \"Custo_Total\")\n",
    "\n",
    "# restrição de tempo total\n",
    "model += (x[1] + x[2] + x[3] >= 5, \"Tempo_Min_Total\")\n",
    "\n",
    "# função objetivo\n",
    "obj_func = dm[3]\n",
    "\n",
    "model += obj_func\n",
    "\n",
    "# visualização do modelo matemático de forma a conferir os dados\n",
    "model"
   ]
  },
  {
   "cell_type": "code",
   "execution_count": 58,
   "id": "f984bdce",
   "metadata": {},
   "outputs": [
    {
     "name": "stdout",
     "output_type": "stream",
     "text": [
      "Valor ótimo:\n",
      "   Z* = 0.0\n",
      "\n",
      "Solução Ótima:\n",
      "   x1* = 0.0\n",
      "   x2* = 0.666667\n",
      "   x3* = 7.0\n",
      "\n",
      "Valores das variáveis de desvio:\n",
      "   dm2* = 0.0\n",
      "   dm3* = 0.0\n",
      "\n",
      "Valores Alcançados nas metas:\n",
      "   20 - 0.0 = 20.0\n",
      "   30 - 0.0 = 30.0\n",
      "\n",
      "Valores das restrições:\n",
      "   PRB: 1.0000000010279564e-06\n",
      "   MRE: 4.333334000000001\n",
      "   desvio_2: 0.0\n",
      "   Custo_Total: 0.02000000001862645\n",
      "   Tempo_Min_Total: 2.6666670000000003\n"
     ]
    }
   ],
   "source": [
    "status = model.solve(solver=GLPK(msg=True))\n",
    "\n",
    "\n",
    "print(\"Valor ótimo:\")\n",
    "print(f\"   Z* = {model.objective.value()}\")\n",
    "\n",
    "print(\"\\nSolução Ótima:\")\n",
    "for var in x.values():\n",
    "    print(f\"   {var.name}* = {var.value()}\")\n",
    "\n",
    "print(\"\\nValores das variáveis de desvio:\")\n",
    "for var in dm.values():\n",
    "    print(f\"   {var.name}* = {var.value()}\")\n",
    "\n",
    "print(\"\\nValores Alcançados nas metas:\")\n",
    "for meta, desvio in zip(vam, dm.values()):\n",
    "    print(f\"   {meta} - {desvio.value()} = {meta - desvio.value()}\")\n",
    "\n",
    "print(\"\\nValores das restrições:\")\n",
    "for name, constraint in model.constraints.items():\n",
    "    print(f\"   {name}: {constraint.value()}\")"
   ]
  },
  {
   "cell_type": "markdown",
   "id": "ae96bf1f",
   "metadata": {},
   "source": [
    "#### Formulação e Resolução do 3º nível:\n",
    "\n",
    "![3º nível do Problema](https://raw.githubusercontent.com/rvzzz/iscte-otimizacao-heuristica-projetos/main/Trabalho%201/imagens/questao_d_3_nivel.png)"
   ]
  },
  {
   "cell_type": "code",
   "execution_count": 59,
   "id": "7faefd80",
   "metadata": {},
   "outputs": [
    {
     "data": {
      "text/plain": [
       "Questão_b2_plano4:\n",
       "MINIMIZE\n",
       "1*dm1 + 0\n",
       "SUBJECT TO\n",
       "PRB: dm2 + 5 x1 + 3 x2 + 4 x3 >= 30\n",
       "\n",
       "MRE: dm3 + 2.5 x1 + 2 x2 + 3 x3 >= 18\n",
       "\n",
       "HRE: dm1 + 3 x1 + x2 + 2 x3 >= 20\n",
       "\n",
       "desvio_2: dm2 = 0\n",
       "\n",
       "desvio_3: dm3 = 0\n",
       "\n",
       "Custo_Total: 100000 x1 + 60000 x2 + 75000 x3 <= 565000\n",
       "\n",
       "Tempo_Min_Total: x1 + x2 + x3 >= 5\n",
       "\n",
       "VARIABLES\n",
       "dm1 Continuous\n",
       "dm2 Continuous\n",
       "dm3 Continuous\n",
       "x1 Continuous\n",
       "x2 Continuous\n",
       "x3 Continuous"
      ]
     },
     "execution_count": 59,
     "metadata": {},
     "output_type": "execute_result"
    }
   ],
   "source": [
    "# criar o modelo de programação linear\n",
    "model = LpProblem(name=\"Questão_b2_plano4\", sense=LpMinimize)\n",
    "\n",
    "# variáveis de decisão\n",
    "x = {i: LpVariable(name=f\"x{i}\", lowBound=0) for i in range(1, 4)}\n",
    "\n",
    "# veriáveis de desvio para as metas de audiências (desvios negativos - falta face à a meta)\n",
    "dm = {i: LpVariable(name=f\"dm{i}\", lowBound=0) for i in range(1, 4)}\n",
    "\n",
    "# restrições de audiências mínimas necessárias neste 2º nível:\n",
    "model += (5 * x[1] + 3 * x[2] + 4 * x[3] + dm[2] >= 30, \"PRB\")   # PRB - Pessoas com Rendimentos Baixos\n",
    "model += (2.5 * x[1] + 2 * x[2] + 3 * x[3] + dm[3] >= 18, \"MRE\") # MRE - Mulheres com Rendimentos Elevados\n",
    "model += (3 * x[1] + 1 * x[2] + 2 * x[3] + dm[1] >= 20, \"HRE\")   # HRE - Homens com Rendimentos Elevados\n",
    "\n",
    "# restrição com a informação encontrada no 1º nível:\n",
    "model += (dm[2] == 0, \"desvio_2\")\n",
    "model += (dm[3] == 0, \"desvio_3\")\n",
    "\n",
    "\n",
    "# restrição de custo\n",
    "model += (100_000 * x[1] + 60_000 * x[2] + 75_000 * x[3] <= 565_000, \"Custo_Total\")\n",
    "\n",
    "# restrição de tempo total\n",
    "model += (x[1] + x[2] + x[3] >= 5, \"Tempo_Min_Total\")\n",
    "\n",
    "# função objetivo\n",
    "obj_func = dm[1]\n",
    "\n",
    "model += obj_func\n",
    "\n",
    "# visualização do modelo matemático de forma a conferir os dados\n",
    "model"
   ]
  },
  {
   "cell_type": "code",
   "execution_count": 60,
   "id": "11f439c8",
   "metadata": {},
   "outputs": [
    {
     "name": "stdout",
     "output_type": "stream",
     "text": [
      "Valor ótimo:\n",
      "   Z* = 4.8\n",
      "\n",
      "Solução Ótima:\n",
      "   x1* = 0.4\n",
      "   x2* = 0.0\n",
      "   x3* = 7.0\n",
      "\n",
      "Valores das variáveis de desvio:\n",
      "   dm1* = 4.8\n",
      "   dm2* = 0.0\n",
      "   dm3* = 0.0\n",
      "\n",
      "Valores Alcançados nas metas:\n",
      "   20 - 4.8 = 15.2\n",
      "   30 - 0.0 = 30.0\n",
      "   18 - 0.0 = 18.0\n",
      "\n",
      "Valores das restrições:\n",
      "   PRB: 0.0\n",
      "   MRE: 4.0\n",
      "   HRE: -8.881784197001252e-16\n",
      "   desvio_2: 0.0\n",
      "   desvio_3: 0.0\n",
      "   Custo_Total: 0.0\n",
      "   Tempo_Min_Total: 2.4000000000000004\n"
     ]
    }
   ],
   "source": [
    "status = model.solve(solver=GLPK(msg=True))\n",
    "\n",
    "\n",
    "print(\"Valor ótimo:\")\n",
    "print(f\"   Z* = {model.objective.value()}\")\n",
    "\n",
    "print(\"\\nSolução Ótima:\")\n",
    "for var in x.values():\n",
    "    print(f\"   {var.name}* = {var.value()}\")\n",
    "\n",
    "print(\"\\nValores das variáveis de desvio:\")\n",
    "for var in dm.values():\n",
    "    print(f\"   {var.name}* = {var.value()}\")\n",
    "\n",
    "print(\"\\nValores Alcançados nas metas:\")\n",
    "for meta, desvio in zip(vam, dm.values()):\n",
    "    print(f\"   {meta} - {desvio.value()} = {meta - desvio.value()}\")\n",
    "\n",
    "print(\"\\nValores das restrições:\")\n",
    "for name, constraint in model.constraints.items():\n",
    "    print(f\"   {name}: {constraint.value()}\")"
   ]
  }
 ],
 "metadata": {
  "kernelspec": {
   "display_name": "base",
   "language": "python",
   "name": "python3"
  },
  "language_info": {
   "codemirror_mode": {
    "name": "ipython",
    "version": 3
   },
   "file_extension": ".py",
   "mimetype": "text/x-python",
   "name": "python",
   "nbconvert_exporter": "python",
   "pygments_lexer": "ipython3",
   "version": "3.10.13"
  }
 },
 "nbformat": 4,
 "nbformat_minor": 5
}
